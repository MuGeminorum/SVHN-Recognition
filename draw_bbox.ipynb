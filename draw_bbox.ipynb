{
 "cells": [
  {
   "cell_type": "code",
   "execution_count": 1,
   "metadata": {},
   "outputs": [
    {
     "name": "stdout",
     "output_type": "stream",
     "text": [
      "Populating the interactive namespace from numpy and matplotlib\n"
     ]
    }
   ],
   "source": [
    "import os\n",
    "import h5py\n",
    "from PIL import Image\n",
    "%pylab inline"
   ]
  },
  {
   "cell_type": "code",
   "execution_count": 2,
   "metadata": {},
   "outputs": [],
   "source": [
    "def get_attrs(digit_struct_mat_file, index):\n",
    "    \"\"\"\n",
    "    Returns a dictionary which contains keys: label, left, top, width and height, each key has multiple values.\n",
    "    \"\"\"\n",
    "    attrs = {}\n",
    "    f = digit_struct_mat_file\n",
    "    item = f['digitStruct']['bbox'][index].item()\n",
    "    for key in ['label', 'left', 'top', 'width', 'height']:\n",
    "        attr = f[item][key]\n",
    "        values = [f[attr[i].item()][0][0]\n",
    "                  for i in range(len(attr))] if len(attr) > 1 else [attr[0][0]]\n",
    "        attrs[key] = values\n",
    "    return attrs"
   ]
  },
  {
   "cell_type": "code",
   "execution_count": 3,
   "metadata": {},
   "outputs": [],
   "source": [
    "path_to_dir = 'data/test'\n",
    "path_to_digit_struct_mat_file = os.path.join(path_to_dir, 'digitStruct.mat')"
   ]
  },
  {
   "cell_type": "code",
   "execution_count": 4,
   "metadata": {},
   "outputs": [
    {
     "name": "stdout",
     "output_type": "stream",
     "text": [
      "index 2: data/test/3.png\n"
     ]
    }
   ],
   "source": [
    "path_to_image_file = os.path.join(path_to_dir, '3.png')\n",
    "index = int(path_to_image_file.split('/')[-1].split('.')[0]) - 1\n",
    "print('index %d: %s' % (index, path_to_image_file))"
   ]
  },
  {
   "cell_type": "code",
   "execution_count": 5,
   "metadata": {},
   "outputs": [
    {
     "name": "stdout",
     "output_type": "stream",
     "text": [
      "min_left=61, min_top=6, max_right=72, max_bottom=22\n",
      "center_x=66.5, center_y=14.0, max_side=16\n",
      "bbox: left=58.5, top=6.0, width=16, height=16\n",
      "cropped: left=56, top=4, width=21, height=21\n"
     ]
    }
   ],
   "source": [
    "with h5py.File(path_to_digit_struct_mat_file, 'r') as digit_struct_mat_file:\n",
    "    attrs = get_attrs(digit_struct_mat_file, index)\n",
    "    length = len(attrs['label'])\n",
    "    attrs_left, attrs_top, attrs_width, attrs_height = map(lambda x: [int(i) for i in x],\n",
    "                                                       [attrs['left'], attrs['top'], attrs['width'], attrs['height']])\n",
    "    min_left, min_top, max_right, max_bottom = (min(attrs_left),\n",
    "                                                min(attrs_top),\n",
    "                                                max(map(lambda x, y: x + y, attrs_left, attrs_width)),\n",
    "                                                max(map(lambda x, y: x + y, attrs_top, attrs_height)))\n",
    "    center_x, center_y, max_side = ((min_left + max_right) / 2.0,\n",
    "                                    (min_top + max_bottom) / 2.0,\n",
    "                                    max(max_right - min_left, max_bottom - min_top))\n",
    "    bbox_left, bbox_top, bbox_width, bbox_height = (center_x - max_side / 2.0, \n",
    "                                                    center_y - max_side / 2.0, \n",
    "                                                    max_side,\n",
    "                                                    max_side)\n",
    "    cropped_left, cropped_top, cropped_width, cropped_height = (int(round(bbox_left - 0.15 * bbox_width)),\n",
    "                                                                int(round(bbox_top - 0.15 * bbox_height)),\n",
    "                                                                int(round(bbox_width * 1.3)),\n",
    "                                                                int(round(bbox_height * 1.3)))\n",
    "print('min_left=%d, min_top=%d, max_right=%d, max_bottom=%d' % (min_left, min_top, max_right, max_bottom))\n",
    "print('center_x=%.1f, center_y=%.1f, max_side=%d' % (center_x, center_y, max_side))\n",
    "print('bbox: left=%.1f, top=%.1f, width=%d, height=%d' % (bbox_left, bbox_top, bbox_width, bbox_height))\n",
    "print('cropped: left=%d, top=%d, width=%d, height=%d' % (cropped_left, cropped_top, cropped_width, cropped_height))"
   ]
  },
  {
   "cell_type": "code",
   "execution_count": 6,
   "metadata": {},
   "outputs": [
    {
     "data": {
      "image/png": "[encoded data removed]",
      "text/plain": [
       "<Figure size 432x288 with 1 Axes>"
      ]
     },
     "metadata": {
      "needs_background": "light"
     },
     "output_type": "display_data"
    }
   ],
   "source": [
    "image = Image.open(path_to_image_file)\n",
    "plt.figure()\n",
    "currentAxis = plt.gca()\n",
    "currentAxis.imshow(image)\n",
    "currentAxis.add_patch(Rectangle((cropped_left, cropped_top), cropped_width, cropped_height, fill=False, edgecolor='red'))\n",
    "currentAxis.add_patch(Rectangle((bbox_left, bbox_top), bbox_width, bbox_height, fill=False, edgecolor='green'))\n",
    "for attr_left, attr_top, attr_width, attr_height in zip(attrs_left, attrs_top, attrs_width, attrs_height):\n",
    "    currentAxis.add_patch(Rectangle((attr_left, attr_top), attr_width, attr_height, fill=False, edgecolor='white', linestyle='dotted'))\n",
    "plt.show()"
   ]
  }
 ],
 "metadata": {
  "kernelspec": {
   "display_name": "Python 3",
   "language": "python",
   "name": "python3"
  },
  "language_info": {
   "codemirror_mode": {
    "name": "ipython",
    "version": 3
   },
   "file_extension": ".py",
   "mimetype": "text/x-python",
   "name": "python",
   "nbconvert_exporter": "python",
   "pygments_lexer": "ipython3",
   "version": "3.6.8"
  }
 },
 "nbformat": 4,
 "nbformat_minor": 2
}
